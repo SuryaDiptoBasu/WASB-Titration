{
 "cells": [
  {
   "cell_type": "code",
   "execution_count": 2,
   "id": "9ae66def",
   "metadata": {},
   "outputs": [],
   "source": [
    "import numpy as np\n",
    "import pandas as pd\n",
    "import matplotlib.pyplot as plt\n",
    "import seaborn as sns\n",
    "%matplotlib inline"
   ]
  },
  {
   "cell_type": "code",
   "execution_count": 3,
   "id": "34e9b0b6",
   "metadata": {},
   "outputs": [],
   "source": [
    "df=pd.read_excel('Titration.xlsx')"
   ]
  },
  {
   "cell_type": "code",
   "execution_count": 4,
   "id": "75510c21",
   "metadata": {},
   "outputs": [
    {
     "data": {
      "text/html": [
       "<div>\n",
       "<style scoped>\n",
       "    .dataframe tbody tr th:only-of-type {\n",
       "        vertical-align: middle;\n",
       "    }\n",
       "\n",
       "    .dataframe tbody tr th {\n",
       "        vertical-align: top;\n",
       "    }\n",
       "\n",
       "    .dataframe thead th {\n",
       "        text-align: right;\n",
       "    }\n",
       "</style>\n",
       "<table border=\"1\" class=\"dataframe\">\n",
       "  <thead>\n",
       "    <tr style=\"text-align: right;\">\n",
       "      <th></th>\n",
       "      <th>Volume of NaOH</th>\n",
       "      <th>Conductance</th>\n",
       "    </tr>\n",
       "  </thead>\n",
       "  <tbody>\n",
       "    <tr>\n",
       "      <th>0</th>\n",
       "      <td>0.0</td>\n",
       "      <td>3.2</td>\n",
       "    </tr>\n",
       "    <tr>\n",
       "      <th>1</th>\n",
       "      <td>0.2</td>\n",
       "      <td>3.0</td>\n",
       "    </tr>\n",
       "    <tr>\n",
       "      <th>2</th>\n",
       "      <td>0.4</td>\n",
       "      <td>2.7</td>\n",
       "    </tr>\n",
       "    <tr>\n",
       "      <th>3</th>\n",
       "      <td>0.6</td>\n",
       "      <td>2.5</td>\n",
       "    </tr>\n",
       "    <tr>\n",
       "      <th>4</th>\n",
       "      <td>0.8</td>\n",
       "      <td>2.3</td>\n",
       "    </tr>\n",
       "  </tbody>\n",
       "</table>\n",
       "</div>"
      ],
      "text/plain": [
       "   Volume of NaOH  Conductance\n",
       "0             0.0          3.2\n",
       "1             0.2          3.0\n",
       "2             0.4          2.7\n",
       "3             0.6          2.5\n",
       "4             0.8          2.3"
      ]
     },
     "execution_count": 4,
     "metadata": {},
     "output_type": "execute_result"
    }
   ],
   "source": [
    "df.head()"
   ]
  },
  {
   "cell_type": "code",
   "execution_count": 5,
   "id": "0925d8ad",
   "metadata": {},
   "outputs": [
    {
     "data": {
      "text/plain": [
       "<Axes: xlabel='Volume of NaOH', ylabel='Conductance'>"
      ]
     },
     "execution_count": 5,
     "metadata": {},
     "output_type": "execute_result"
    },
    {
     "data": {
      "image/png": "[encoded data removed]",
      "text/plain": [
       "<Figure size 640x480 with 1 Axes>"
      ]
     },
     "metadata": {},
     "output_type": "display_data"
    }
   ],
   "source": [
    "df.plot.scatter(x='Volume of NaOH',y='Conductance',ylabel='Conductance')"
   ]
  },
  {
   "cell_type": "code",
   "execution_count": 6,
   "id": "143c7f42",
   "metadata": {},
   "outputs": [],
   "source": [
    "df1=df.head(11)"
   ]
  },
  {
   "cell_type": "code",
   "execution_count": 7,
   "id": "e44a71ce",
   "metadata": {},
   "outputs": [],
   "source": [
    "df3=df.tail(8)"
   ]
  },
  {
   "cell_type": "code",
   "execution_count": 8,
   "id": "ece72781",
   "metadata": {},
   "outputs": [],
   "source": [
    "df2=df[10:26]"
   ]
  },
  {
   "cell_type": "code",
   "execution_count": 9,
   "id": "c647074f",
   "metadata": {},
   "outputs": [],
   "source": [
    "X1=np.array(df1['Volume of NaOH']).reshape(-1,1)\n",
    "y1=np.array(df1['Conductance'])\n",
    "\n",
    "X2=np.array(df2['Volume of NaOH']).reshape(-1,1)\n",
    "y2=np.array(df2['Conductance'])\n",
    "\n",
    "X3=np.array(df3['Volume of NaOH']).reshape(-1,1)\n",
    "y3=np.array(df3['Conductance'])"
   ]
  },
  {
   "cell_type": "code",
   "execution_count": 10,
   "id": "a671c7e2",
   "metadata": {},
   "outputs": [],
   "source": [
    "from sklearn.linear_model import LinearRegression"
   ]
  },
  {
   "cell_type": "code",
   "execution_count": 11,
   "id": "ccfd12da",
   "metadata": {},
   "outputs": [],
   "source": [
    "lm1=LinearRegression()\n",
    "lm2=LinearRegression()\n",
    "lm3=LinearRegression()"
   ]
  },
  {
   "cell_type": "code",
   "execution_count": 12,
   "id": "28f93498",
   "metadata": {},
   "outputs": [
    {
     "data": {
      "text/html": [
       "<style>#sk-container-id-1 {color: black;}#sk-container-id-1 pre{padding: 0;}#sk-container-id-1 div.sk-toggleable {background-color: white;}#sk-container-id-1 label.sk-toggleable__label {cursor: pointer;display: block;width: 100%;margin-bottom: 0;padding: 0.3em;box-sizing: border-box;text-align: center;}#sk-container-id-1 label.sk-toggleable__label-arrow:before {content: \"▸\";float: left;margin-right: 0.25em;color: #696969;}#sk-container-id-1 label.sk-toggleable__label-arrow:hover:before {color: black;}#sk-container-id-1 div.sk-estimator:hover label.sk-toggleable__label-arrow:before {color: black;}#sk-container-id-1 div.sk-toggleable__content {max-height: 0;max-width: 0;overflow: hidden;text-align: left;background-color: #f0f8ff;}#sk-container-id-1 div.sk-toggleable__content pre {margin: 0.2em;color: black;border-radius: 0.25em;background-color: #f0f8ff;}#sk-container-id-1 input.sk-toggleable__control:checked~div.sk-toggleable__content {max-height: 200px;max-width: 100%;overflow: auto;}#sk-container-id-1 input.sk-toggleable__control:checked~label.sk-toggleable__label-arrow:before {content: \"▾\";}#sk-container-id-1 div.sk-estimator input.sk-toggleable__control:checked~label.sk-toggleable__label {background-color: #d4ebff;}#sk-container-id-1 div.sk-label input.sk-toggleable__control:checked~label.sk-toggleable__label {background-color: #d4ebff;}#sk-container-id-1 input.sk-hidden--visually {border: 0;clip: rect(1px 1px 1px 1px);clip: rect(1px, 1px, 1px, 1px);height: 1px;margin: -1px;overflow: hidden;padding: 0;position: absolute;width: 1px;}#sk-container-id-1 div.sk-estimator {font-family: monospace;background-color: #f0f8ff;border: 1px dotted black;border-radius: 0.25em;box-sizing: border-box;margin-bottom: 0.5em;}#sk-container-id-1 div.sk-estimator:hover {background-color: #d4ebff;}#sk-container-id-1 div.sk-parallel-item::after {content: \"\";width: 100%;border-bottom: 1px solid gray;flex-grow: 1;}#sk-container-id-1 div.sk-label:hover label.sk-toggleable__label {background-color: #d4ebff;}#sk-container-id-1 div.sk-serial::before {content: \"\";position: absolute;border-left: 1px solid gray;box-sizing: border-box;top: 0;bottom: 0;left: 50%;z-index: 0;}#sk-container-id-1 div.sk-serial {display: flex;flex-direction: column;align-items: center;background-color: white;padding-right: 0.2em;padding-left: 0.2em;position: relative;}#sk-container-id-1 div.sk-item {position: relative;z-index: 1;}#sk-container-id-1 div.sk-parallel {display: flex;align-items: stretch;justify-content: center;background-color: white;position: relative;}#sk-container-id-1 div.sk-item::before, #sk-container-id-1 div.sk-parallel-item::before {content: \"\";position: absolute;border-left: 1px solid gray;box-sizing: border-box;top: 0;bottom: 0;left: 50%;z-index: -1;}#sk-container-id-1 div.sk-parallel-item {display: flex;flex-direction: column;z-index: 1;position: relative;background-color: white;}#sk-container-id-1 div.sk-parallel-item:first-child::after {align-self: flex-end;width: 50%;}#sk-container-id-1 div.sk-parallel-item:last-child::after {align-self: flex-start;width: 50%;}#sk-container-id-1 div.sk-parallel-item:only-child::after {width: 0;}#sk-container-id-1 div.sk-dashed-wrapped {border: 1px dashed gray;margin: 0 0.4em 0.5em 0.4em;box-sizing: border-box;padding-bottom: 0.4em;background-color: white;}#sk-container-id-1 div.sk-label label {font-family: monospace;font-weight: bold;display: inline-block;line-height: 1.2em;}#sk-container-id-1 div.sk-label-container {text-align: center;}#sk-container-id-1 div.sk-container {/* jupyter's `normalize.less` sets `[hidden] { display: none; }` but bootstrap.min.css set `[hidden] { display: none !important; }` so we also need the `!important` here to be able to override the default hidden behavior on the sphinx rendered scikit-learn.org. See: https://github.com/scikit-learn/scikit-learn/issues/21755 */display: inline-block !important;position: relative;}#sk-container-id-1 div.sk-text-repr-fallback {display: none;}</style><div id=\"sk-container-id-1\" class=\"sk-top-container\"><div class=\"sk-text-repr-fallback\"><pre>LinearRegression()</pre><b>In a Jupyter environment, please rerun this cell to show the HTML representation or trust the notebook. <br />On GitHub, the HTML representation is unable to render, please try loading this page with nbviewer.org.</b></div><div class=\"sk-container\" hidden><div class=\"sk-item\"><div class=\"sk-estimator sk-toggleable\"><input class=\"sk-toggleable__control sk-hidden--visually\" id=\"sk-estimator-id-1\" type=\"checkbox\" checked><label for=\"sk-estimator-id-1\" class=\"sk-toggleable__label sk-toggleable__label-arrow\">LinearRegression</label><div class=\"sk-toggleable__content\"><pre>LinearRegression()</pre></div></div></div></div></div>"
      ],
      "text/plain": [
       "LinearRegression()"
      ]
     },
     "execution_count": 12,
     "metadata": {},
     "output_type": "execute_result"
    }
   ],
   "source": [
    "lm1.fit(X1,y1)\n",
    "lm2.fit(X2,y2)\n",
    "lm3.fit(X3,y3)"
   ]
  },
  {
   "cell_type": "code",
   "execution_count": 13,
   "id": "8e2f7c87",
   "metadata": {},
   "outputs": [
    {
     "data": {
      "text/plain": [
       "-1.8214285714285703"
      ]
     },
     "execution_count": 13,
     "metadata": {},
     "output_type": "execute_result"
    }
   ],
   "source": [
    "lm1.intercept_\n",
    "lm2.intercept_\n",
    "lm3.intercept_"
   ]
  },
  {
   "cell_type": "code",
   "execution_count": 14,
   "id": "84ebc4c1",
   "metadata": {},
   "outputs": [
    {
     "data": {
      "text/plain": [
       "array([0.79761905])"
      ]
     },
     "execution_count": 14,
     "metadata": {},
     "output_type": "execute_result"
    }
   ],
   "source": [
    "lm1.coef_\n",
    "lm2.coef_\n",
    "lm3.coef_"
   ]
  },
  {
   "cell_type": "code",
   "execution_count": 15,
   "id": "6fd6ff7d",
   "metadata": {},
   "outputs": [],
   "source": [
    "def func1(x):\n",
    "    return (lm1.intercept_ + x*lm1.coef_)\n",
    "def func2(x):\n",
    "    return (lm2.intercept_ + x*lm2.coef_)\n",
    "def func3(x):\n",
    "    return (lm3.intercept_ + x*lm3.coef_)"
   ]
  },
  {
   "cell_type": "code",
   "execution_count": 107,
   "id": "4a78403c",
   "metadata": {},
   "outputs": [],
   "source": [
    "X11 = np.linspace(0,2.07,12)\n",
    "X22 = np.linspace(2.07,4.83,16)\n",
    "X33 = np.linspace(4.83,6.4,9)"
   ]
  },
  {
   "cell_type": "code",
   "execution_count": 108,
   "id": "d1570ee4",
   "metadata": {},
   "outputs": [],
   "source": [
    "y11=func1(X11)\n",
    "y22=func2(X22)\n",
    "y33=func3(X33)"
   ]
  },
  {
   "cell_type": "code",
   "execution_count": 109,
   "id": "fe19b813",
   "metadata": {},
   "outputs": [],
   "source": [
    "X=df['Volume of NaOH']\n",
    "y=df['Conductance']"
   ]
  },
  {
   "cell_type": "code",
   "execution_count": 110,
   "id": "6df2a892",
   "metadata": {},
   "outputs": [
    {
     "data": {
      "text/plain": [
       "Text(0.5, 1.0, 'Titration: Oxalic Acid vs NaOH')"
      ]
     },
     "execution_count": 110,
     "metadata": {},
     "output_type": "execute_result"
    },
    {
     "data": {
      "image/png": "[encoded data removed]",
      "text/plain": [
       "<Figure size 640x480 with 1 Axes>"
      ]
     },
     "metadata": {},
     "output_type": "display_data"
    }
   ],
   "source": [
    "fig=plt.figure()\n",
    "ax=fig.add_axes([0,0,1,1])\n",
    "ax.scatter(X,y,color='red',s=30)\n",
    "ax.plot(X11,y11,color='black')\n",
    "ax.plot(X22,y22,color='black')\n",
    "ax.plot(X33,y33,color='black')\n",
    "ax.set_xlabel(xlabel='Volume of NaOH')\n",
    "ax.set_ylabel(ylabel='Conductance')\n",
    "plt.title(\"Titration: Oxalic Acid vs NaOH\")"
   ]
  },
  {
   "cell_type": "code",
   "execution_count": null,
   "id": "64542559",
   "metadata": {},
   "outputs": [],
   "source": []
  },
  {
   "cell_type": "code",
   "execution_count": null,
   "id": "9bbddf42",
   "metadata": {},
   "outputs": [],
   "source": []
  }
 ],
 "metadata": {
  "kernelspec": {
   "display_name": "Python 3 (ipykernel)",
   "language": "python",
   "name": "python3"
  },
  "language_info": {
   "codemirror_mode": {
    "name": "ipython",
    "version": 3
   },
   "file_extension": ".py",
   "mimetype": "text/x-python",
   "name": "python",
   "nbconvert_exporter": "python",
   "pygments_lexer": "ipython3",
   "version": "3.11.5"
  }
 },
 "nbformat": 4,
 "nbformat_minor": 5
}
